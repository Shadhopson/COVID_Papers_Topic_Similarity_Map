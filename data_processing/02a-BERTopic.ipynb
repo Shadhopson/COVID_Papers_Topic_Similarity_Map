{
 "cells": [
  {
   "cell_type": "markdown",
   "id": "37dd8319",
   "metadata": {},
   "source": [
    "## Load in Required Packages"
   ]
  },
  {
   "cell_type": "code",
   "execution_count": null,
   "id": "5a221f32",
   "metadata": {},
   "outputs": [],
   "source": [
    "from bertopic import BERTopic\n",
    "from sqlalchemy import create_engine\n",
    "\n",
    "import numpy as np\n",
    "import pandas as pd\n",
    "import pymysql"
   ]
  },
  {
   "cell_type": "markdown",
   "id": "08c356cd",
   "metadata": {},
   "source": [
    "## Choose AWS or Local\n",
    "\n",
    "This code does some initial setup depending upon if you're running this code in AWS EC2 or locally via Docker Containers."
   ]
  },
  {
   "cell_type": "code",
   "execution_count": null,
   "id": "9e0c30ba",
   "metadata": {},
   "outputs": [],
   "source": [
    "# Do not edit these 2 lines\n",
    "LOCAL_RUN_MODE = \"LOCAL\"\n",
    "AWS_EC2_RUN_MODE = \"AWS_EC2\"\n",
    "\n",
    "# Uncomment the line you want to use, matching to where you're running the code\n",
    "run_mode = LOCAL_RUN_MODE\n",
    "# run_mode = AWS_EC2_RUN_MODE"
   ]
  },
  {
   "cell_type": "code",
   "execution_count": null,
   "id": "4f2e2091",
   "metadata": {},
   "outputs": [],
   "source": [
    "if (run_mode == LOCAL_RUN_MODE):\n",
    "    # Configure MySQL Connection\n",
    "    sqlEngine = create_engine('mysql+pymysql://root:p@ssw0rd1@cse6242_team094_mysqldb/cse6242_team094')\n",
    "    dbConnection = sqlEngine.connect()\n",
    "    \n",
    "    abstracts = pd.read_sql_table(\"processed_abstracts\", con=dbConnection)"
   ]
  },
  {
   "cell_type": "code",
   "execution_count": null,
   "id": "83f912f3",
   "metadata": {},
   "outputs": [],
   "source": [
    "if (run_mode == AWS_EC2_RUN_MODE):\n",
    "    # Read the data from the Parquet files on the EC2 instance\n",
    "    abstracts = pd.read_parquet(\"abstract_parquet\")"
   ]
  },
  {
   "cell_type": "markdown",
   "id": "423458b4",
   "metadata": {},
   "source": [
    "## Process the Loaded, Preprocessed Abstracts using BERTopic"
   ]
  },
  {
   "cell_type": "code",
   "execution_count": null,
   "id": "169efc5e",
   "metadata": {},
   "outputs": [],
   "source": [
    "abstract_li = abstracts.abstract_tokens.values.tolist()\n",
    "\n",
    "abstract_li2 = [x.replace(\",\",\" \") for x in abstract_li]\n",
    "\n",
    "topic_model = BERTopic(language=\"english\", calculate_probabilities=True)\n",
    "\n",
    "topics, probs = topic_model.fit_transform(abstract_li2)\n",
    "\n",
    "abstracts['topic'] = topics\n",
    "\n",
    "abstracts[\"topic_prob\"] = [x for x in probs]\n",
    "\n",
    "old_version = abstracts[[\"cord_uid\",\"topic\",\"topic_prob\"]]\n",
    "\n",
    "prob_df = pd.DataFrame([x for x in probs])"
   ]
  },
  {
   "cell_type": "code",
   "execution_count": null,
   "metadata": {},
   "outputs": [],
   "source": [
    "doc_topic_df = pd.concat([abstracts[[\"cord_uid\",\"topic\"]],prob_df],axis=1)\n",
    "\n",
    "topic_words = topic_model.get_topic_freq()\n",
    "\n",
    "probs = [topic_model.get_topic(x) for x in topic_words[\"Topic\"]]\n",
    "\n",
    "topic_words[\"related_words\"] = [topic_model.get_topic(x) for x in topic_words[\"Topic\"]]\n",
    "topic_words[\"related_words\"] = topic_words[\"related_words\"].astype(str)\n",
    "\n",
    "flat_probs = []\n",
    "for words in probs:\n",
    "  doc_words = []\n",
    "  for word in words:\n",
    "    doc_words.append(word[0])\n",
    "    doc_words.append(word[1])\n",
    "  flat_probs.append(doc_words)\n",
    "\n",
    "flat_probs_df = pd.DataFrame(flat_probs)\n",
    "\n",
    "extended_topic_df = pd.concat([topic_words,flat_probs_df],axis=1)"
   ]
  },
  {
   "cell_type": "markdown",
   "id": "3adf1dfc",
   "metadata": {},
   "source": [
    "## Output the Data"
   ]
  },
  {
   "cell_type": "code",
   "execution_count": null,
   "id": "cc77a185",
   "metadata": {},
   "outputs": [],
   "source": [
    "if (run_mode == LOCAL_RUN_MODE):\n",
    "    # Write to MySQL\n",
    "    old_version.to_sql(\"02a_bert_string_doc_to_topic\", con=dbConnection, if_exists='replace')\n",
    "    doc_topic_df.to_sql(\"02a_bert_doc_topic\", con=dbConnection, if_exists='replace')\n",
    "    topic_words.to_sql(\"02a_bert_string_topic_to_words\", con=dbConnection, if_exists='replace')\n",
    "    extended_topic_df.to_sql(\"02a_bert_extended_topic\", con=dbConnection, if_exists='replace')"
   ]
  },
  {
   "cell_type": "code",
   "execution_count": null,
   "id": "c7879291",
   "metadata": {},
   "outputs": [],
   "source": [
    "if (run_mode == AWS_EC2_RUN_MODE):\n",
    "    # Save to a CSV\n",
    "    old_version.to_csv(\"string_doc_to_topic.csv\")\n",
    "    doc_topic_df.to_csv('doc_topic_df.csv')\n",
    "    topic_words.to_csv(\"string_topic_to_words.csv\")\n",
    "    extended_topic_df.to_csv(\"extended_topic_df.csv\")"
   ]
  }
 ],
 "metadata": {
  "kernelspec": {
   "display_name": "Python 3",
   "language": "python",
   "name": "python3"
  },
  "language_info": {
   "codemirror_mode": {
    "name": "ipython",
    "version": 3
   },
   "file_extension": ".py",
   "mimetype": "text/x-python",
   "name": "python",
   "nbconvert_exporter": "python",
   "pygments_lexer": "ipython3",
   "version": "3.8.8"
  }
 },
 "nbformat": 4,
 "nbformat_minor": 5
}